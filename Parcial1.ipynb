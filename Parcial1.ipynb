{
  "nbformat": 4,
  "nbformat_minor": 0,
  "metadata": {
    "colab": {
      "name": "Parcial1.ipynb",
      "provenance": [],
      "collapsed_sections": [],
      "authorship_tag": "ABX9TyOu8yp8KNrea7luFAMPpvWK",
      "include_colab_link": true
    },
    "kernelspec": {
      "name": "python3",
      "display_name": "Python 3"
    },
    "language_info": {
      "name": "python"
    }
  },
  "cells": [
    {
      "cell_type": "markdown",
      "metadata": {
        "id": "view-in-github",
        "colab_type": "text"
      },
      "source": [
        "<a href=\"https://colab.research.google.com/github/1Nine2/Parcial1IA/blob/main/Parcial1.ipynb\" target=\"_parent\"><img src=\"https://colab.research.google.com/assets/colab-badge.svg\" alt=\"Open In Colab\"/></a>"
      ]
    },
    {
      "cell_type": "code",
      "source": [
        "import pandas as pd\n",
        "import numpy as np\n",
        "import matplotlib.pyplot as plt\n",
        "import seaborn as sns\n",
        "import plotly.express as px\n",
        "import matplotlib\n",
        "from wordcloud import WordCloud"
      ],
      "metadata": {
        "id": "SYdxxpUMF49n"
      },
      "execution_count": 45,
      "outputs": []
    },
    {
      "cell_type": "code",
      "source": [
        "from sklearn.preprocessing import MinMaxScaler\n",
        "from matplotlib import pyplot as plt"
      ],
      "metadata": {
        "id": "ygfTX_nmv_DC"
      },
      "execution_count": 3,
      "outputs": []
    },
    {
      "cell_type": "code",
      "metadata": {
        "id": "o4c_J892NIC1"
      },
      "source": [
        "from sklearn import datasets\n",
        "from sklearn.model_selection import train_test_split\n",
        "import pandas as pd\n",
        "import numpy as np"
      ],
      "execution_count": 1,
      "outputs": []
    },
    {
      "cell_type": "code",
      "source": [
        "dataset = pd.read_csv(\"/content/healthcare-dataset-stroke-data.csv\")"
      ],
      "metadata": {
        "id": "zPPQFX6bve5H"
      },
      "execution_count": 2,
      "outputs": []
    },
    {
      "cell_type": "code",
      "source": [
        "dataset.head()"
      ],
      "metadata": {
        "colab": {
          "base_uri": "https://localhost:8080/",
          "height": 206
        },
        "id": "WagB49GwwM4b",
        "outputId": "7b5c5079-e61d-4c67-b6c6-508a60ef4a22"
      },
      "execution_count": 4,
      "outputs": [
        {
          "output_type": "execute_result",
          "data": {
            "text/plain": [
              "      id  gender   age  hypertension  heart_disease ever_married  \\\n",
              "0   9046    Male  67.0             0              1          Yes   \n",
              "1  51676  Female  61.0             0              0          Yes   \n",
              "2  31112    Male  80.0             0              1          Yes   \n",
              "3  60182  Female  49.0             0              0          Yes   \n",
              "4   1665  Female  79.0             1              0          Yes   \n",
              "\n",
              "       work_type Residence_type  avg_glucose_level   bmi   smoking_status  \\\n",
              "0        Private          Urban             228.69  36.6  formerly smoked   \n",
              "1  Self-employed          Rural             202.21   NaN     never smoked   \n",
              "2        Private          Rural             105.92  32.5     never smoked   \n",
              "3        Private          Urban             171.23  34.4           smokes   \n",
              "4  Self-employed          Rural             174.12  24.0     never smoked   \n",
              "\n",
              "   stroke  \n",
              "0       1  \n",
              "1       1  \n",
              "2       1  \n",
              "3       1  \n",
              "4       1  "
            ],
            "text/html": [
              "\n",
              "  <div id=\"df-57e4acec-87c2-428e-bc49-429ee95ab4ba\">\n",
              "    <div class=\"colab-df-container\">\n",
              "      <div>\n",
              "<style scoped>\n",
              "    .dataframe tbody tr th:only-of-type {\n",
              "        vertical-align: middle;\n",
              "    }\n",
              "\n",
              "    .dataframe tbody tr th {\n",
              "        vertical-align: top;\n",
              "    }\n",
              "\n",
              "    .dataframe thead th {\n",
              "        text-align: right;\n",
              "    }\n",
              "</style>\n",
              "<table border=\"1\" class=\"dataframe\">\n",
              "  <thead>\n",
              "    <tr style=\"text-align: right;\">\n",
              "      <th></th>\n",
              "      <th>id</th>\n",
              "      <th>gender</th>\n",
              "      <th>age</th>\n",
              "      <th>hypertension</th>\n",
              "      <th>heart_disease</th>\n",
              "      <th>ever_married</th>\n",
              "      <th>work_type</th>\n",
              "      <th>Residence_type</th>\n",
              "      <th>avg_glucose_level</th>\n",
              "      <th>bmi</th>\n",
              "      <th>smoking_status</th>\n",
              "      <th>stroke</th>\n",
              "    </tr>\n",
              "  </thead>\n",
              "  <tbody>\n",
              "    <tr>\n",
              "      <th>0</th>\n",
              "      <td>9046</td>\n",
              "      <td>Male</td>\n",
              "      <td>67.0</td>\n",
              "      <td>0</td>\n",
              "      <td>1</td>\n",
              "      <td>Yes</td>\n",
              "      <td>Private</td>\n",
              "      <td>Urban</td>\n",
              "      <td>228.69</td>\n",
              "      <td>36.6</td>\n",
              "      <td>formerly smoked</td>\n",
              "      <td>1</td>\n",
              "    </tr>\n",
              "    <tr>\n",
              "      <th>1</th>\n",
              "      <td>51676</td>\n",
              "      <td>Female</td>\n",
              "      <td>61.0</td>\n",
              "      <td>0</td>\n",
              "      <td>0</td>\n",
              "      <td>Yes</td>\n",
              "      <td>Self-employed</td>\n",
              "      <td>Rural</td>\n",
              "      <td>202.21</td>\n",
              "      <td>NaN</td>\n",
              "      <td>never smoked</td>\n",
              "      <td>1</td>\n",
              "    </tr>\n",
              "    <tr>\n",
              "      <th>2</th>\n",
              "      <td>31112</td>\n",
              "      <td>Male</td>\n",
              "      <td>80.0</td>\n",
              "      <td>0</td>\n",
              "      <td>1</td>\n",
              "      <td>Yes</td>\n",
              "      <td>Private</td>\n",
              "      <td>Rural</td>\n",
              "      <td>105.92</td>\n",
              "      <td>32.5</td>\n",
              "      <td>never smoked</td>\n",
              "      <td>1</td>\n",
              "    </tr>\n",
              "    <tr>\n",
              "      <th>3</th>\n",
              "      <td>60182</td>\n",
              "      <td>Female</td>\n",
              "      <td>49.0</td>\n",
              "      <td>0</td>\n",
              "      <td>0</td>\n",
              "      <td>Yes</td>\n",
              "      <td>Private</td>\n",
              "      <td>Urban</td>\n",
              "      <td>171.23</td>\n",
              "      <td>34.4</td>\n",
              "      <td>smokes</td>\n",
              "      <td>1</td>\n",
              "    </tr>\n",
              "    <tr>\n",
              "      <th>4</th>\n",
              "      <td>1665</td>\n",
              "      <td>Female</td>\n",
              "      <td>79.0</td>\n",
              "      <td>1</td>\n",
              "      <td>0</td>\n",
              "      <td>Yes</td>\n",
              "      <td>Self-employed</td>\n",
              "      <td>Rural</td>\n",
              "      <td>174.12</td>\n",
              "      <td>24.0</td>\n",
              "      <td>never smoked</td>\n",
              "      <td>1</td>\n",
              "    </tr>\n",
              "  </tbody>\n",
              "</table>\n",
              "</div>\n",
              "      <button class=\"colab-df-convert\" onclick=\"convertToInteractive('df-57e4acec-87c2-428e-bc49-429ee95ab4ba')\"\n",
              "              title=\"Convert this dataframe to an interactive table.\"\n",
              "              style=\"display:none;\">\n",
              "        \n",
              "  <svg xmlns=\"http://www.w3.org/2000/svg\" height=\"24px\"viewBox=\"0 0 24 24\"\n",
              "       width=\"24px\">\n",
              "    <path d=\"M0 0h24v24H0V0z\" fill=\"none\"/>\n",
              "    <path d=\"M18.56 5.44l.94 2.06.94-2.06 2.06-.94-2.06-.94-.94-2.06-.94 2.06-2.06.94zm-11 1L8.5 8.5l.94-2.06 2.06-.94-2.06-.94L8.5 2.5l-.94 2.06-2.06.94zm10 10l.94 2.06.94-2.06 2.06-.94-2.06-.94-.94-2.06-.94 2.06-2.06.94z\"/><path d=\"M17.41 7.96l-1.37-1.37c-.4-.4-.92-.59-1.43-.59-.52 0-1.04.2-1.43.59L10.3 9.45l-7.72 7.72c-.78.78-.78 2.05 0 2.83L4 21.41c.39.39.9.59 1.41.59.51 0 1.02-.2 1.41-.59l7.78-7.78 2.81-2.81c.8-.78.8-2.07 0-2.86zM5.41 20L4 18.59l7.72-7.72 1.47 1.35L5.41 20z\"/>\n",
              "  </svg>\n",
              "      </button>\n",
              "      \n",
              "  <style>\n",
              "    .colab-df-container {\n",
              "      display:flex;\n",
              "      flex-wrap:wrap;\n",
              "      gap: 12px;\n",
              "    }\n",
              "\n",
              "    .colab-df-convert {\n",
              "      background-color: #E8F0FE;\n",
              "      border: none;\n",
              "      border-radius: 50%;\n",
              "      cursor: pointer;\n",
              "      display: none;\n",
              "      fill: #1967D2;\n",
              "      height: 32px;\n",
              "      padding: 0 0 0 0;\n",
              "      width: 32px;\n",
              "    }\n",
              "\n",
              "    .colab-df-convert:hover {\n",
              "      background-color: #E2EBFA;\n",
              "      box-shadow: 0px 1px 2px rgba(60, 64, 67, 0.3), 0px 1px 3px 1px rgba(60, 64, 67, 0.15);\n",
              "      fill: #174EA6;\n",
              "    }\n",
              "\n",
              "    [theme=dark] .colab-df-convert {\n",
              "      background-color: #3B4455;\n",
              "      fill: #D2E3FC;\n",
              "    }\n",
              "\n",
              "    [theme=dark] .colab-df-convert:hover {\n",
              "      background-color: #434B5C;\n",
              "      box-shadow: 0px 1px 3px 1px rgba(0, 0, 0, 0.15);\n",
              "      filter: drop-shadow(0px 1px 2px rgba(0, 0, 0, 0.3));\n",
              "      fill: #FFFFFF;\n",
              "    }\n",
              "  </style>\n",
              "\n",
              "      <script>\n",
              "        const buttonEl =\n",
              "          document.querySelector('#df-57e4acec-87c2-428e-bc49-429ee95ab4ba button.colab-df-convert');\n",
              "        buttonEl.style.display =\n",
              "          google.colab.kernel.accessAllowed ? 'block' : 'none';\n",
              "\n",
              "        async function convertToInteractive(key) {\n",
              "          const element = document.querySelector('#df-57e4acec-87c2-428e-bc49-429ee95ab4ba');\n",
              "          const dataTable =\n",
              "            await google.colab.kernel.invokeFunction('convertToInteractive',\n",
              "                                                     [key], {});\n",
              "          if (!dataTable) return;\n",
              "\n",
              "          const docLinkHtml = 'Like what you see? Visit the ' +\n",
              "            '<a target=\"_blank\" href=https://colab.research.google.com/notebooks/data_table.ipynb>data table notebook</a>'\n",
              "            + ' to learn more about interactive tables.';\n",
              "          element.innerHTML = '';\n",
              "          dataTable['output_type'] = 'display_data';\n",
              "          await google.colab.output.renderOutput(dataTable, element);\n",
              "          const docLink = document.createElement('div');\n",
              "          docLink.innerHTML = docLinkHtml;\n",
              "          element.appendChild(docLink);\n",
              "        }\n",
              "      </script>\n",
              "    </div>\n",
              "  </div>\n",
              "  "
            ]
          },
          "metadata": {},
          "execution_count": 4
        }
      ]
    },
    {
      "cell_type": "code",
      "source": [
        "dataset.describe()"
      ],
      "metadata": {
        "colab": {
          "base_uri": "https://localhost:8080/",
          "height": 300
        },
        "id": "RLJOp6Z8whip",
        "outputId": "b57e7035-8428-4584-a0a1-3b197058d9b8"
      },
      "execution_count": 7,
      "outputs": [
        {
          "output_type": "execute_result",
          "data": {
            "text/plain": [
              "                 id          age  hypertension  heart_disease  \\\n",
              "count   5110.000000  5110.000000   5110.000000    5110.000000   \n",
              "mean   36517.829354    43.226614      0.097456       0.054012   \n",
              "std    21161.721625    22.612647      0.296607       0.226063   \n",
              "min       67.000000     0.080000      0.000000       0.000000   \n",
              "25%    17741.250000    25.000000      0.000000       0.000000   \n",
              "50%    36932.000000    45.000000      0.000000       0.000000   \n",
              "75%    54682.000000    61.000000      0.000000       0.000000   \n",
              "max    72940.000000    82.000000      1.000000       1.000000   \n",
              "\n",
              "       avg_glucose_level          bmi       stroke  \n",
              "count        5110.000000  4909.000000  5110.000000  \n",
              "mean          106.147677    28.893237     0.048728  \n",
              "std            45.283560     7.854067     0.215320  \n",
              "min            55.120000    10.300000     0.000000  \n",
              "25%            77.245000    23.500000     0.000000  \n",
              "50%            91.885000    28.100000     0.000000  \n",
              "75%           114.090000    33.100000     0.000000  \n",
              "max           271.740000    97.600000     1.000000  "
            ],
            "text/html": [
              "\n",
              "  <div id=\"df-0983a600-3522-4aad-b4b7-196dff385f53\">\n",
              "    <div class=\"colab-df-container\">\n",
              "      <div>\n",
              "<style scoped>\n",
              "    .dataframe tbody tr th:only-of-type {\n",
              "        vertical-align: middle;\n",
              "    }\n",
              "\n",
              "    .dataframe tbody tr th {\n",
              "        vertical-align: top;\n",
              "    }\n",
              "\n",
              "    .dataframe thead th {\n",
              "        text-align: right;\n",
              "    }\n",
              "</style>\n",
              "<table border=\"1\" class=\"dataframe\">\n",
              "  <thead>\n",
              "    <tr style=\"text-align: right;\">\n",
              "      <th></th>\n",
              "      <th>id</th>\n",
              "      <th>age</th>\n",
              "      <th>hypertension</th>\n",
              "      <th>heart_disease</th>\n",
              "      <th>avg_glucose_level</th>\n",
              "      <th>bmi</th>\n",
              "      <th>stroke</th>\n",
              "    </tr>\n",
              "  </thead>\n",
              "  <tbody>\n",
              "    <tr>\n",
              "      <th>count</th>\n",
              "      <td>5110.000000</td>\n",
              "      <td>5110.000000</td>\n",
              "      <td>5110.000000</td>\n",
              "      <td>5110.000000</td>\n",
              "      <td>5110.000000</td>\n",
              "      <td>4909.000000</td>\n",
              "      <td>5110.000000</td>\n",
              "    </tr>\n",
              "    <tr>\n",
              "      <th>mean</th>\n",
              "      <td>36517.829354</td>\n",
              "      <td>43.226614</td>\n",
              "      <td>0.097456</td>\n",
              "      <td>0.054012</td>\n",
              "      <td>106.147677</td>\n",
              "      <td>28.893237</td>\n",
              "      <td>0.048728</td>\n",
              "    </tr>\n",
              "    <tr>\n",
              "      <th>std</th>\n",
              "      <td>21161.721625</td>\n",
              "      <td>22.612647</td>\n",
              "      <td>0.296607</td>\n",
              "      <td>0.226063</td>\n",
              "      <td>45.283560</td>\n",
              "      <td>7.854067</td>\n",
              "      <td>0.215320</td>\n",
              "    </tr>\n",
              "    <tr>\n",
              "      <th>min</th>\n",
              "      <td>67.000000</td>\n",
              "      <td>0.080000</td>\n",
              "      <td>0.000000</td>\n",
              "      <td>0.000000</td>\n",
              "      <td>55.120000</td>\n",
              "      <td>10.300000</td>\n",
              "      <td>0.000000</td>\n",
              "    </tr>\n",
              "    <tr>\n",
              "      <th>25%</th>\n",
              "      <td>17741.250000</td>\n",
              "      <td>25.000000</td>\n",
              "      <td>0.000000</td>\n",
              "      <td>0.000000</td>\n",
              "      <td>77.245000</td>\n",
              "      <td>23.500000</td>\n",
              "      <td>0.000000</td>\n",
              "    </tr>\n",
              "    <tr>\n",
              "      <th>50%</th>\n",
              "      <td>36932.000000</td>\n",
              "      <td>45.000000</td>\n",
              "      <td>0.000000</td>\n",
              "      <td>0.000000</td>\n",
              "      <td>91.885000</td>\n",
              "      <td>28.100000</td>\n",
              "      <td>0.000000</td>\n",
              "    </tr>\n",
              "    <tr>\n",
              "      <th>75%</th>\n",
              "      <td>54682.000000</td>\n",
              "      <td>61.000000</td>\n",
              "      <td>0.000000</td>\n",
              "      <td>0.000000</td>\n",
              "      <td>114.090000</td>\n",
              "      <td>33.100000</td>\n",
              "      <td>0.000000</td>\n",
              "    </tr>\n",
              "    <tr>\n",
              "      <th>max</th>\n",
              "      <td>72940.000000</td>\n",
              "      <td>82.000000</td>\n",
              "      <td>1.000000</td>\n",
              "      <td>1.000000</td>\n",
              "      <td>271.740000</td>\n",
              "      <td>97.600000</td>\n",
              "      <td>1.000000</td>\n",
              "    </tr>\n",
              "  </tbody>\n",
              "</table>\n",
              "</div>\n",
              "      <button class=\"colab-df-convert\" onclick=\"convertToInteractive('df-0983a600-3522-4aad-b4b7-196dff385f53')\"\n",
              "              title=\"Convert this dataframe to an interactive table.\"\n",
              "              style=\"display:none;\">\n",
              "        \n",
              "  <svg xmlns=\"http://www.w3.org/2000/svg\" height=\"24px\"viewBox=\"0 0 24 24\"\n",
              "       width=\"24px\">\n",
              "    <path d=\"M0 0h24v24H0V0z\" fill=\"none\"/>\n",
              "    <path d=\"M18.56 5.44l.94 2.06.94-2.06 2.06-.94-2.06-.94-.94-2.06-.94 2.06-2.06.94zm-11 1L8.5 8.5l.94-2.06 2.06-.94-2.06-.94L8.5 2.5l-.94 2.06-2.06.94zm10 10l.94 2.06.94-2.06 2.06-.94-2.06-.94-.94-2.06-.94 2.06-2.06.94z\"/><path d=\"M17.41 7.96l-1.37-1.37c-.4-.4-.92-.59-1.43-.59-.52 0-1.04.2-1.43.59L10.3 9.45l-7.72 7.72c-.78.78-.78 2.05 0 2.83L4 21.41c.39.39.9.59 1.41.59.51 0 1.02-.2 1.41-.59l7.78-7.78 2.81-2.81c.8-.78.8-2.07 0-2.86zM5.41 20L4 18.59l7.72-7.72 1.47 1.35L5.41 20z\"/>\n",
              "  </svg>\n",
              "      </button>\n",
              "      \n",
              "  <style>\n",
              "    .colab-df-container {\n",
              "      display:flex;\n",
              "      flex-wrap:wrap;\n",
              "      gap: 12px;\n",
              "    }\n",
              "\n",
              "    .colab-df-convert {\n",
              "      background-color: #E8F0FE;\n",
              "      border: none;\n",
              "      border-radius: 50%;\n",
              "      cursor: pointer;\n",
              "      display: none;\n",
              "      fill: #1967D2;\n",
              "      height: 32px;\n",
              "      padding: 0 0 0 0;\n",
              "      width: 32px;\n",
              "    }\n",
              "\n",
              "    .colab-df-convert:hover {\n",
              "      background-color: #E2EBFA;\n",
              "      box-shadow: 0px 1px 2px rgba(60, 64, 67, 0.3), 0px 1px 3px 1px rgba(60, 64, 67, 0.15);\n",
              "      fill: #174EA6;\n",
              "    }\n",
              "\n",
              "    [theme=dark] .colab-df-convert {\n",
              "      background-color: #3B4455;\n",
              "      fill: #D2E3FC;\n",
              "    }\n",
              "\n",
              "    [theme=dark] .colab-df-convert:hover {\n",
              "      background-color: #434B5C;\n",
              "      box-shadow: 0px 1px 3px 1px rgba(0, 0, 0, 0.15);\n",
              "      filter: drop-shadow(0px 1px 2px rgba(0, 0, 0, 0.3));\n",
              "      fill: #FFFFFF;\n",
              "    }\n",
              "  </style>\n",
              "\n",
              "      <script>\n",
              "        const buttonEl =\n",
              "          document.querySelector('#df-0983a600-3522-4aad-b4b7-196dff385f53 button.colab-df-convert');\n",
              "        buttonEl.style.display =\n",
              "          google.colab.kernel.accessAllowed ? 'block' : 'none';\n",
              "\n",
              "        async function convertToInteractive(key) {\n",
              "          const element = document.querySelector('#df-0983a600-3522-4aad-b4b7-196dff385f53');\n",
              "          const dataTable =\n",
              "            await google.colab.kernel.invokeFunction('convertToInteractive',\n",
              "                                                     [key], {});\n",
              "          if (!dataTable) return;\n",
              "\n",
              "          const docLinkHtml = 'Like what you see? Visit the ' +\n",
              "            '<a target=\"_blank\" href=https://colab.research.google.com/notebooks/data_table.ipynb>data table notebook</a>'\n",
              "            + ' to learn more about interactive tables.';\n",
              "          element.innerHTML = '';\n",
              "          dataTable['output_type'] = 'display_data';\n",
              "          await google.colab.output.renderOutput(dataTable, element);\n",
              "          const docLink = document.createElement('div');\n",
              "          docLink.innerHTML = docLinkHtml;\n",
              "          element.appendChild(docLink);\n",
              "        }\n",
              "      </script>\n",
              "    </div>\n",
              "  </div>\n",
              "  "
            ]
          },
          "metadata": {},
          "execution_count": 7
        }
      ]
    },
    {
      "cell_type": "code",
      "source": [
        "dataset.columns"
      ],
      "metadata": {
        "colab": {
          "base_uri": "https://localhost:8080/"
        },
        "id": "NP6ylUsfxYpP",
        "outputId": "5d5b990a-bca5-4a4d-b0d5-a52ca7b213cb"
      },
      "execution_count": 9,
      "outputs": [
        {
          "output_type": "execute_result",
          "data": {
            "text/plain": [
              "Index(['id', 'gender', 'age', 'hypertension', 'heart_disease', 'ever_married',\n",
              "       'work_type', 'Residence_type', 'avg_glucose_level', 'bmi',\n",
              "       'smoking_status', 'stroke'],\n",
              "      dtype='object')"
            ]
          },
          "metadata": {},
          "execution_count": 9
        }
      ]
    },
    {
      "cell_type": "markdown",
      "source": [
        "# a. El calculo del 1er cuartil de datos, el percentil 50 por columna; explique qué significa en cada caso mediante Python sin uso de librerías"
      ],
      "metadata": {
        "id": "sgXGoGVa3XhA"
      }
    },
    {
      "cell_type": "markdown",
      "source": [
        "![imagen_2022-04-07_172037.png](data:image/png;base64,iVBORw0KGgoAAAANSUhEUgAAALEAAAA1CAYAAAAOCAoLAAACcklEQVR4nO2c0W7DIAxF6bT//+XsKVW2QTFgsA3nSJXWrY1tcuNQ211KAAAAMJfL2oFBovsPg+wigF3igEZ2O/HFeL5WegEAIGW3LHyTjYtMfA6fhD1b9FNtI2K4UkqvyLYRMYTn29oBWMYr/c98rZlQcuvPHU/DdhFEfC49ItLadqhuYdhOwJPr8bCy3wyZ+ExymXDa7V5g+/59F2TiPbn3oK3vsUJywVhWUcCIkoil4p6xpagd07KWDU7JnXiJGGYJplfECPhwrsLP0vfM8KPlNQi4gQiL1etjS8VBex0sbR9FpMWb6av1OljbD0vEhZt1u//7WE3Ec+GCiAsX0WeoMLJXjEpk31V5NjtW1ei81wJnl3koIykjaTuXWpQ1WrsrXjoyUyeuFhz/OHpnJ05a8NkCQ8CDeBkCWTXXWvMjZ6P2914fasev8fT9xK3Ie90+ZWLJCRYZqaAx12qRzTxlT0++LMfzduL02+zp8YspjWKuWkD12VIlbr96Rho1jm8dfyg8zhOvzEA5EVl/kNOerY1+QXT5vyrokdlSTSRTXhY1Yo16enQB3zTHcZqIV9uS4nGo3RJxPF4ELH2NJt5O+uhe2Vs8o1TjWTW1xGypnJH4d127cHGFc1gZbRFbzmxo2Q6niXAOKzMjE+cqMavQsH26Jo5CImLLzxyqo7P885SzeNbFe2rhI+MGo7aLIGJowWUb3GPHDuyw/H7dbR8gpdS3J579oa+2J5ZcPIj8MEZFOvMraaXnGq122IjRmZCo8yKwGaqlrAVYNmTAMZGaCsxWgwqWokGwMIy1iLrs0+yAm1yFwGVzAwAAAAAAfvMDrn/nnoaAvHEAAAAASUVORK5CYII=)"
      ],
      "metadata": {
        "id": "xYQQLEEo5nfc"
      }
    },
    {
      "cell_type": "code",
      "source": [
        "def calc_quantile(lst, q, method='linear'):\n",
        "    if not lst:\n",
        "        return ValueError(\"Lista vacia no se puede calcular quartil\")\n",
        "    if not 0 <= q <= 1:\n",
        "        return ValueError(\"q debe estar entre 0 y 1\")\n",
        "    if method not in ['linear', 'left-side', 'average']:df.drop('id',axis=1,inplace=True)\n",
        "        return NotImplementedError(\"Este metodo no ha sido implementado\")\n",
        "\n",
        "    s_lst = sorted(lst)\n",
        "\n",
        "    idx = (len(s_lst) - 1)*q\n",
        "    int_idx = int(idx)\n",
        "    remainder = idx % 1\n",
        "    if remainder > 0 and method != 'left-side':\n",
        "        lower_val = s_lst[int_idx]\n",
        "        upper_val = s_lst[int_idx + 1]\n",
        "\n",
        "        if method == 'linear':\n",
        "            return lower_val * (1 - remainder) + upper_val * remainder\n",
        "        else:\n",
        "            return (lower_val + upper_val) / 2\n",
        "    else:\n",
        "        return s_lst[int_idx]"
      ],
      "metadata": {
        "colab": {
          "base_uri": "https://localhost:8080/"
        },
        "id": "VOS7Rdle2d99",
        "outputId": "7ed446f1-5d88-4382-e2f3-c05f4acf951b"
      },
      "execution_count": 35,
      "outputs": [
        {
          "output_type": "stream",
          "name": "stdout",
          "text": [
            "2\n"
          ]
        }
      ]
    },
    {
      "cell_type": "code",
      "source": [
        "print('1er Quartil') \n",
        "print(calc_quantile(dataset.age.tolist(), 0.25, 'linear'))   \n",
        "print('Percentil 50') \n",
        "print(calc_quantile(dataset.age.tolist(), 0.50, 'linear'))   "
      ],
      "metadata": {
        "colab": {
          "base_uri": "https://localhost:8080/"
        },
        "id": "vMWxaMNI2huB",
        "outputId": "997c5be6-8b1a-4e2f-ebd9-9f5bcf48a742"
      },
      "execution_count": 49,
      "outputs": [
        {
          "output_type": "stream",
          "name": "stdout",
          "text": [
            "1er Quartil\n",
            "25.0\n",
            "Percentil 50\n",
            "45.0\n"
          ]
        }
      ]
    },
    {
      "cell_type": "markdown",
      "source": [
        "#  b. Realice lo mismo del inciso (a) con el uso de numpy y pandas"
      ],
      "metadata": {
        "id": "6PeaGA9N3fe7"
      }
    },
    {
      "cell_type": "code",
      "source": [
        "dataset.age.quantile([0.25,0.50], interpolation='linear')"
      ],
      "metadata": {
        "colab": {
          "base_uri": "https://localhost:8080/"
        },
        "id": "2cACsHztxSSD",
        "outputId": "0aa9fbdc-378e-432a-befe-22e01e24c814"
      },
      "execution_count": 39,
      "outputs": [
        {
          "output_type": "execute_result",
          "data": {
            "text/plain": [
              "0.25    25.0\n",
              "0.50    45.0\n",
              "Name: age, dtype: float64"
            ]
          },
          "metadata": {},
          "execution_count": 39
        }
      ]
    },
    {
      "cell_type": "markdown",
      "source": [
        "# c. Grafique los datos y explique su comportamiento (PYTHON)"
      ],
      "metadata": {
        "id": "zsmUW6OG3jMa"
      }
    },
    {
      "cell_type": "code",
      "source": [
        "dataset.drop('id',axis=1,inplace=True)"
      ],
      "metadata": {
        "id": "OId6y0TK3oXt"
      },
      "execution_count": 40,
      "outputs": []
    },
    {
      "cell_type": "code",
      "source": [
        "df = dataset"
      ],
      "metadata": {
        "id": "MFjAd91bFuAr"
      },
      "execution_count": 43,
      "outputs": []
    },
    {
      "cell_type": "markdown",
      "source": [
        "*Esta es una decripcion general del dataset*"
      ],
      "metadata": {
        "id": "PuZP_HR9JB4U"
      }
    },
    {
      "cell_type": "code",
      "source": [
        "df.hist(figsize=(10,10))"
      ],
      "metadata": {
        "colab": {
          "base_uri": "https://localhost:8080/",
          "height": 842
        },
        "id": "NPj4Ky7qTmIN",
        "outputId": "923d9311-02bf-45dc-f8b4-3820ad090bd4"
      },
      "execution_count": 88,
      "outputs": [
        {
          "output_type": "execute_result",
          "data": {
            "text/plain": [
              "array([[<matplotlib.axes._subplots.AxesSubplot object at 0x7f719b7530d0>,\n",
              "        <matplotlib.axes._subplots.AxesSubplot object at 0x7f719b706890>,\n",
              "        <matplotlib.axes._subplots.AxesSubplot object at 0x7f719b6bee90>],\n",
              "       [<matplotlib.axes._subplots.AxesSubplot object at 0x7f719b6834d0>,\n",
              "        <matplotlib.axes._subplots.AxesSubplot object at 0x7f719b639ad0>,\n",
              "        <matplotlib.axes._subplots.AxesSubplot object at 0x7f719b5fc110>],\n",
              "       [<matplotlib.axes._subplots.AxesSubplot object at 0x7f719b5b2790>,\n",
              "        <matplotlib.axes._subplots.AxesSubplot object at 0x7f719b5e8cd0>,\n",
              "        <matplotlib.axes._subplots.AxesSubplot object at 0x7f719b5e8d10>],\n",
              "       [<matplotlib.axes._subplots.AxesSubplot object at 0x7f719b5aa450>,\n",
              "        <matplotlib.axes._subplots.AxesSubplot object at 0x7f719b51af50>,\n",
              "        <matplotlib.axes._subplots.AxesSubplot object at 0x7f719b4dc590>]],\n",
              "      dtype=object)"
            ]
          },
          "metadata": {},
          "execution_count": 88
        },
        {
          "output_type": "display_data",
          "data": {
            "text/plain": [
              "<Figure size 720x720 with 12 Axes>"
            ],
            "image/png": "[encoded data removed]"
          },
          "metadata": {}
        }
      ]
    },
    {
      "cell_type": "code",
      "source": [
        "sns.heatmap(df.corr(), cmap = 'Purples',annot=True);"
      ],
      "metadata": {
        "colab": {
          "base_uri": "https://localhost:8080/",
          "height": 350
        },
        "id": "ID_GztTmIALM",
        "outputId": "00e114a0-60c6-4340-c731-46fa2c1b8d66"
      },
      "execution_count": 52,
      "outputs": [
        {
          "output_type": "display_data",
          "data": {
            "text/plain": [
              "<Figure size 432x288 with 2 Axes>"
            ],
            "image/png": "[encoded data removed]"
          },
          "metadata": {
            "needs_background": "light"
          }
        }
      ]
    },
    {
      "cell_type": "markdown",
      "source": [
        "*se muestran las distribuciones de edad y bmi*"
      ],
      "metadata": {
        "id": "q8WgN2_rJMQF"
      }
    },
    {
      "cell_type": "code",
      "source": [
        "fig=plt.figure(figsize=(20,8),facecolor='white')\n",
        "gs=fig.add_gridspec(1,2)\n",
        "ax=[None for i in range(2)]\n",
        "ax[0]=fig.add_subplot(gs[0,0])\n",
        "ax[1]=fig.add_subplot(gs[0,1])\n",
        "\n",
        "ax[0].text(-24,0.019,'Distribucion sobre la variable de la edad',fontsize=23,fontweight='bold', fontfamily='monospace')\n",
        "ax[0].text(-24,0.01826,'La mayoria de las edades se encuentran entre 40 y 60',fontsize=17,fontweight='light', fontfamily='monospace')\n",
        "\n",
        "ax[1].text(6,412,'Distribucion de la variable BMI',fontsize=23,fontweight='bold', fontfamily='monospace')\n",
        "ax[1].text(6,395,'La mayor parte de los datos tiene un bmi entre 25 y 35',fontsize=17,fontweight='light', fontfamily='monospace')\n",
        "\n",
        "sns.kdeplot(x=df['age'],ax=ax[0],shade=True, color='blue', alpha=0.6,zorder=3,linewidth=5,edgecolor='black')\n",
        "sns.histplot(x=df['bmi'],ax=ax[1], color='green', alpha=1,zorder=2,linewidth=1,edgecolor='black',shrink=0.5)\n",
        "\n",
        "for i in range(2):\n",
        "    ax[i].set_ylabel('')\n",
        "    ax[i].grid(which='both', axis='y', zorder=0, color='black', linestyle=':', dashes=(2,7))\n",
        "    \n",
        "    for direction in ['top','right','left']:\n",
        "        ax[i].spines[direction].set_visible(False)\n",
        "        \n",
        "ax[1].set_xlim(10,70)\n",
        "        \n",
        "plt.tight_layout()"
      ],
      "metadata": {
        "colab": {
          "base_uri": "https://localhost:8080/",
          "height": 498
        },
        "id": "Pf97-C_pEmXm",
        "outputId": "7fecf801-3d93-4c0d-aa85-7591d8c6a560"
      },
      "execution_count": 54,
      "outputs": [
        {
          "output_type": "display_data",
          "data": {
            "text/plain": [
              "<Figure size 1440x576 with 2 Axes>"
            ],
            "image/png": "[encoded data removed]"
          },
          "metadata": {}
        }
      ]
    },
    {
      "cell_type": "markdown",
      "source": [
        "*Se decriben las ditribuciones en genero y tipos de trabajo*"
      ],
      "metadata": {
        "id": "7GU08GUfJUze"
      }
    },
    {
      "cell_type": "code",
      "source": [
        "fig = plt.figure(figsize=(14,11))\n",
        "gs = fig.add_gridspec(3,4)\n",
        "sns.set_style(\"white\")\n",
        "sns.set_context(\"poster\", font_scale = 0.5)\n",
        "\n",
        "ax_gender_stroke = fig.add_subplot(gs[:2,:2])\n",
        "sns.countplot(x='gender', hue='stroke', data=df, ax=ax_gender_stroke, palette='coolwarm')\n",
        "sns.despine()\n",
        "\n",
        "ax_gender_stroke = fig.add_subplot(gs[:2,2:4], sharey=ax_gender_stroke)\n",
        "sns.countplot(x='stroke', hue='gender', data=df, ax=ax_gender_stroke, palette='coolwarm')\n",
        "sns.despine()\n",
        "\n",
        "\n",
        "\n",
        "plt.show()"
      ],
      "metadata": {
        "colab": {
          "base_uri": "https://localhost:8080/",
          "height": 460
        },
        "id": "Z_mlNt0AJfEU",
        "outputId": "866282cf-3c30-457e-cbfd-8282f7cb7d00"
      },
      "execution_count": 57,
      "outputs": [
        {
          "output_type": "display_data",
          "data": {
            "text/plain": [
              "<Figure size 1008x792 with 2 Axes>"
            ],
            "image/png": "[encoded data removed]"
          },
          "metadata": {}
        }
      ]
    },
    {
      "cell_type": "markdown",
      "source": [
        "*Se describen las variables de enfermedades del corazon, hipertension y niveles de glucosa de acuerdo a si se experimento o no un accidente cerebrovascular*"
      ],
      "metadata": {
        "id": "8CaLPRK4LaXx"
      }
    },
    {
      "cell_type": "code",
      "source": [
        "sns.pairplot(df, hue = 'stroke', vars = ['heart_disease', 'hypertension','avg_glucose_level'])"
      ],
      "metadata": {
        "colab": {
          "base_uri": "https://localhost:8080/",
          "height": 565
        },
        "id": "W-wcMsvEJ8o2",
        "outputId": "8ed68873-ee67-4eb7-aca7-f7c712e06c2c"
      },
      "execution_count": 65,
      "outputs": [
        {
          "output_type": "execute_result",
          "data": {
            "text/plain": [
              "<seaborn.axisgrid.PairGrid at 0x7f71a5eb1950>"
            ]
          },
          "metadata": {},
          "execution_count": 65
        },
        {
          "output_type": "display_data",
          "data": {
            "text/plain": [
              "<Figure size 586.6x540 with 12 Axes>"
            ],
            "image/png": "[encoded data removed]"
          },
          "metadata": {}
        }
      ]
    },
    {
      "cell_type": "markdown",
      "source": [
        "#3. Del dataset anterior realice en PYTHON, tres algoritmos de preprocesamiento."
      ],
      "metadata": {
        "id": "ZLdE34qvL35E"
      }
    },
    {
      "cell_type": "code",
      "source": [
        "df.columns=df.columns.str.lower()"
      ],
      "metadata": {
        "id": "oc-oq2QPL5Ul"
      },
      "execution_count": 67,
      "outputs": []
    },
    {
      "cell_type": "code",
      "source": [
        "df.isna().sum()"
      ],
      "metadata": {
        "colab": {
          "base_uri": "https://localhost:8080/"
        },
        "id": "_z5WbnXPMTA_",
        "outputId": "fd2ab830-cab1-4a07-e206-9c3aa5a50fd4"
      },
      "execution_count": 68,
      "outputs": [
        {
          "output_type": "execute_result",
          "data": {
            "text/plain": [
              "gender                 0\n",
              "age                    0\n",
              "hypertension           0\n",
              "heart_disease          0\n",
              "ever_married           0\n",
              "work_type              0\n",
              "residence_type         0\n",
              "avg_glucose_level      0\n",
              "bmi                  201\n",
              "smoking_status         0\n",
              "stroke                 0\n",
              "dtype: int64"
            ]
          },
          "metadata": {},
          "execution_count": 68
        }
      ]
    },
    {
      "cell_type": "code",
      "source": [
        "df=df.fillna(np.mean(df['bmi']))#Para no tener valores perdidos\n",
        "df.isna().sum()"
      ],
      "metadata": {
        "colab": {
          "base_uri": "https://localhost:8080/"
        },
        "id": "fK8sL6cRMVnn",
        "outputId": "78d313ca-f3e4-4589-e6d1-3550268a0926"
      },
      "execution_count": 69,
      "outputs": [
        {
          "output_type": "execute_result",
          "data": {
            "text/plain": [
              "gender               0\n",
              "age                  0\n",
              "hypertension         0\n",
              "heart_disease        0\n",
              "ever_married         0\n",
              "work_type            0\n",
              "residence_type       0\n",
              "avg_glucose_level    0\n",
              "bmi                  0\n",
              "smoking_status       0\n",
              "stroke               0\n",
              "dtype: int64"
            ]
          },
          "metadata": {},
          "execution_count": 69
        }
      ]
    },
    {
      "cell_type": "code",
      "source": [
        "df['smoking_status'].replace('Unknown', df['smoking_status'].mode()[0], inplace=True)#Reemplazamos datos desconocidos "
      ],
      "metadata": {
        "id": "ocAf6yjdMn9R"
      },
      "execution_count": 71,
      "outputs": []
    },
    {
      "cell_type": "code",
      "source": [
        "df = df[df['gender'] != 'Other']#Ignoraremos a los datos que no sean binarios "
      ],
      "metadata": {
        "id": "vIVxqAZtM5WD"
      },
      "execution_count": 72,
      "outputs": []
    },
    {
      "cell_type": "code",
      "source": [
        "numeric_data=df.loc[:,df.nunique() > 5]\n",
        "cols = [col for col in df.columns if col not in numeric_data]\n",
        "\n",
        "categorical_data=df[cols].drop('stroke',axis=1)\n",
        "numeric_data=pd.DataFrame(numeric_data)\n",
        "categorical_data=pd.DataFrame(categorical_data)#Diferenciamos dos tipos de datos aquellos que se definen numericamente y otros que se describen literariamente "
      ],
      "metadata": {
        "id": "I8jnA7c4NM41"
      },
      "execution_count": 73,
      "outputs": []
    },
    {
      "cell_type": "code",
      "source": [
        "print(f'Numerical data: {list(numeric_data)}')\n",
        "print(f'Categorical data: {list(categorical_data)}')"
      ],
      "metadata": {
        "colab": {
          "base_uri": "https://localhost:8080/"
        },
        "id": "IyZDuISrNeiB",
        "outputId": "ab130c70-35e9-463e-f263-1e73b5d202db"
      },
      "execution_count": 74,
      "outputs": [
        {
          "output_type": "stream",
          "name": "stdout",
          "text": [
            "Numerical data: ['age', 'avg_glucose_level', 'bmi']\n",
            "Categorical data: ['gender', 'hypertension', 'heart_disease', 'ever_married', 'work_type', 'residence_type', 'smoking_status']\n"
          ]
        }
      ]
    },
    {
      "cell_type": "code",
      "source": [
        "from sklearn.preprocessing import LabelEncoder#Importamos algunas librerias para el preprocesamiento de datos\n",
        "from sklearn.preprocessing import StandardScaler\n",
        "from imblearn.over_sampling import SMOTE\n",
        "from sklearn.model_selection import train_test_split\n",
        "from sklearn.linear_model import LogisticRegression\n",
        "from sklearn.ensemble import RandomForestClassifier\n",
        "from sklearn.tree import DecisionTreeClassifier\n",
        "from sklearn.metrics import accuracy_score, f1_score\n",
        "from xgboost import XGBClassifier\n",
        "from sklearn.neighbors import KNeighborsClassifier\n",
        "from sklearn.tree import DecisionTreeClassifier\n",
        "from lightgbm import LGBMClassifier\n",
        "from sklearn.svm import SVC"
      ],
      "metadata": {
        "id": "BBjFmiMeN4AF"
      },
      "execution_count": 76,
      "outputs": []
    },
    {
      "cell_type": "markdown",
      "source": [
        "**Standart Scaler**"
      ],
      "metadata": {
        "id": "QpvQ9wT5OSyM"
      }
    },
    {
      "cell_type": "code",
      "source": [
        "num_cols=numeric_data.columns.to_list()\n",
        "sc = StandardScaler()\n",
        "df[num_cols] = sc.fit_transform(df[num_cols])#Estandarizamos la escala estadarizada un metodo de preprocesamiento "
      ],
      "metadata": {
        "id": "n-C8A1bENluV"
      },
      "execution_count": 77,
      "outputs": []
    },
    {
      "cell_type": "code",
      "source": [
        "df.head()"
      ],
      "metadata": {
        "colab": {
          "base_uri": "https://localhost:8080/",
          "height": 206
        },
        "id": "nDLcFSAyOLIb",
        "outputId": "b043282a-80f6-41bb-ec83-d7c9b97f543f"
      },
      "execution_count": 78,
      "outputs": [
        {
          "output_type": "execute_result",
          "data": {
            "text/plain": [
              "   gender       age  hypertension  heart_disease ever_married      work_type  \\\n",
              "0    Male  1.051242             0              1          Yes        Private   \n",
              "1  Female  0.785889             0              0          Yes  Self-employed   \n",
              "2    Male  1.626174             0              1          Yes        Private   \n",
              "3  Female  0.255182             0              0          Yes        Private   \n",
              "4  Female  1.581949             1              0          Yes  Self-employed   \n",
              "\n",
              "  residence_type  avg_glucose_level       bmi   smoking_status  stroke  \n",
              "0          Urban           2.706450  1.001041  formerly smoked       1  \n",
              "1          Rural           2.121652 -0.000165     never smoked       1  \n",
              "2          Rural          -0.004867  0.468399     never smoked       1  \n",
              "3          Urban           1.437473  0.715233           smokes       1  \n",
              "4          Rural           1.501297 -0.635858     never smoked       1  "
            ],
            "text/html": [
              "\n",
              "  <div id=\"df-3f9b3580-1202-4d54-b979-a80170881c44\">\n",
              "    <div class=\"colab-df-container\">\n",
              "      <div>\n",
              "<style scoped>\n",
              "    .dataframe tbody tr th:only-of-type {\n",
              "        vertical-align: middle;\n",
              "    }\n",
              "\n",
              "    .dataframe tbody tr th {\n",
              "        vertical-align: top;\n",
              "    }\n",
              "\n",
              "    .dataframe thead th {\n",
              "        text-align: right;\n",
              "    }\n",
              "</style>\n",
              "<table border=\"1\" class=\"dataframe\">\n",
              "  <thead>\n",
              "    <tr style=\"text-align: right;\">\n",
              "      <th></th>\n",
              "      <th>gender</th>\n",
              "      <th>age</th>\n",
              "      <th>hypertension</th>\n",
              "      <th>heart_disease</th>\n",
              "      <th>ever_married</th>\n",
              "      <th>work_type</th>\n",
              "      <th>residence_type</th>\n",
              "      <th>avg_glucose_level</th>\n",
              "      <th>bmi</th>\n",
              "      <th>smoking_status</th>\n",
              "      <th>stroke</th>\n",
              "    </tr>\n",
              "  </thead>\n",
              "  <tbody>\n",
              "    <tr>\n",
              "      <th>0</th>\n",
              "      <td>Male</td>\n",
              "      <td>1.051242</td>\n",
              "      <td>0</td>\n",
              "      <td>1</td>\n",
              "      <td>Yes</td>\n",
              "      <td>Private</td>\n",
              "      <td>Urban</td>\n",
              "      <td>2.706450</td>\n",
              "      <td>1.001041</td>\n",
              "      <td>formerly smoked</td>\n",
              "      <td>1</td>\n",
              "    </tr>\n",
              "    <tr>\n",
              "      <th>1</th>\n",
              "      <td>Female</td>\n",
              "      <td>0.785889</td>\n",
              "      <td>0</td>\n",
              "      <td>0</td>\n",
              "      <td>Yes</td>\n",
              "      <td>Self-employed</td>\n",
              "      <td>Rural</td>\n",
              "      <td>2.121652</td>\n",
              "      <td>-0.000165</td>\n",
              "      <td>never smoked</td>\n",
              "      <td>1</td>\n",
              "    </tr>\n",
              "    <tr>\n",
              "      <th>2</th>\n",
              "      <td>Male</td>\n",
              "      <td>1.626174</td>\n",
              "      <td>0</td>\n",
              "      <td>1</td>\n",
              "      <td>Yes</td>\n",
              "      <td>Private</td>\n",
              "      <td>Rural</td>\n",
              "      <td>-0.004867</td>\n",
              "      <td>0.468399</td>\n",
              "      <td>never smoked</td>\n",
              "      <td>1</td>\n",
              "    </tr>\n",
              "    <tr>\n",
              "      <th>3</th>\n",
              "      <td>Female</td>\n",
              "      <td>0.255182</td>\n",
              "      <td>0</td>\n",
              "      <td>0</td>\n",
              "      <td>Yes</td>\n",
              "      <td>Private</td>\n",
              "      <td>Urban</td>\n",
              "      <td>1.437473</td>\n",
              "      <td>0.715233</td>\n",
              "      <td>smokes</td>\n",
              "      <td>1</td>\n",
              "    </tr>\n",
              "    <tr>\n",
              "      <th>4</th>\n",
              "      <td>Female</td>\n",
              "      <td>1.581949</td>\n",
              "      <td>1</td>\n",
              "      <td>0</td>\n",
              "      <td>Yes</td>\n",
              "      <td>Self-employed</td>\n",
              "      <td>Rural</td>\n",
              "      <td>1.501297</td>\n",
              "      <td>-0.635858</td>\n",
              "      <td>never smoked</td>\n",
              "      <td>1</td>\n",
              "    </tr>\n",
              "  </tbody>\n",
              "</table>\n",
              "</div>\n",
              "      <button class=\"colab-df-convert\" onclick=\"convertToInteractive('df-3f9b3580-1202-4d54-b979-a80170881c44')\"\n",
              "              title=\"Convert this dataframe to an interactive table.\"\n",
              "              style=\"display:none;\">\n",
              "        \n",
              "  <svg xmlns=\"http://www.w3.org/2000/svg\" height=\"24px\"viewBox=\"0 0 24 24\"\n",
              "       width=\"24px\">\n",
              "    <path d=\"M0 0h24v24H0V0z\" fill=\"none\"/>\n",
              "    <path d=\"M18.56 5.44l.94 2.06.94-2.06 2.06-.94-2.06-.94-.94-2.06-.94 2.06-2.06.94zm-11 1L8.5 8.5l.94-2.06 2.06-.94-2.06-.94L8.5 2.5l-.94 2.06-2.06.94zm10 10l.94 2.06.94-2.06 2.06-.94-2.06-.94-.94-2.06-.94 2.06-2.06.94z\"/><path d=\"M17.41 7.96l-1.37-1.37c-.4-.4-.92-.59-1.43-.59-.52 0-1.04.2-1.43.59L10.3 9.45l-7.72 7.72c-.78.78-.78 2.05 0 2.83L4 21.41c.39.39.9.59 1.41.59.51 0 1.02-.2 1.41-.59l7.78-7.78 2.81-2.81c.8-.78.8-2.07 0-2.86zM5.41 20L4 18.59l7.72-7.72 1.47 1.35L5.41 20z\"/>\n",
              "  </svg>\n",
              "      </button>\n",
              "      \n",
              "  <style>\n",
              "    .colab-df-container {\n",
              "      display:flex;\n",
              "      flex-wrap:wrap;\n",
              "      gap: 12px;\n",
              "    }\n",
              "\n",
              "    .colab-df-convert {\n",
              "      background-color: #E8F0FE;\n",
              "      border: none;\n",
              "      border-radius: 50%;\n",
              "      cursor: pointer;\n",
              "      display: none;\n",
              "      fill: #1967D2;\n",
              "      height: 32px;\n",
              "      padding: 0 0 0 0;\n",
              "      width: 32px;\n",
              "    }\n",
              "\n",
              "    .colab-df-convert:hover {\n",
              "      background-color: #E2EBFA;\n",
              "      box-shadow: 0px 1px 2px rgba(60, 64, 67, 0.3), 0px 1px 3px 1px rgba(60, 64, 67, 0.15);\n",
              "      fill: #174EA6;\n",
              "    }\n",
              "\n",
              "    [theme=dark] .colab-df-convert {\n",
              "      background-color: #3B4455;\n",
              "      fill: #D2E3FC;\n",
              "    }\n",
              "\n",
              "    [theme=dark] .colab-df-convert:hover {\n",
              "      background-color: #434B5C;\n",
              "      box-shadow: 0px 1px 3px 1px rgba(0, 0, 0, 0.15);\n",
              "      filter: drop-shadow(0px 1px 2px rgba(0, 0, 0, 0.3));\n",
              "      fill: #FFFFFF;\n",
              "    }\n",
              "  </style>\n",
              "\n",
              "      <script>\n",
              "        const buttonEl =\n",
              "          document.querySelector('#df-3f9b3580-1202-4d54-b979-a80170881c44 button.colab-df-convert');\n",
              "        buttonEl.style.display =\n",
              "          google.colab.kernel.accessAllowed ? 'block' : 'none';\n",
              "\n",
              "        async function convertToInteractive(key) {\n",
              "          const element = document.querySelector('#df-3f9b3580-1202-4d54-b979-a80170881c44');\n",
              "          const dataTable =\n",
              "            await google.colab.kernel.invokeFunction('convertToInteractive',\n",
              "                                                     [key], {});\n",
              "          if (!dataTable) return;\n",
              "\n",
              "          const docLinkHtml = 'Like what you see? Visit the ' +\n",
              "            '<a target=\"_blank\" href=https://colab.research.google.com/notebooks/data_table.ipynb>data table notebook</a>'\n",
              "            + ' to learn more about interactive tables.';\n",
              "          element.innerHTML = '';\n",
              "          dataTable['output_type'] = 'display_data';\n",
              "          await google.colab.output.renderOutput(dataTable, element);\n",
              "          const docLink = document.createElement('div');\n",
              "          docLink.innerHTML = docLinkHtml;\n",
              "          element.appendChild(docLink);\n",
              "        }\n",
              "      </script>\n",
              "    </div>\n",
              "  </div>\n",
              "  "
            ]
          },
          "metadata": {},
          "execution_count": 78
        }
      ]
    },
    {
      "cell_type": "markdown",
      "source": [
        "**LabelEncoding**"
      ],
      "metadata": {
        "id": "EVwkueA9O0UK"
      }
    },
    {
      "cell_type": "code",
      "source": [
        "le = LabelEncoder()\n",
        "object_col = [col for col in df.columns if df[col].dtype == 'object']\n",
        "for col in object_col:\n",
        "    df[col] = le.fit_transform(df[col])"
      ],
      "metadata": {
        "id": "fbPrjr0HO6F_"
      },
      "execution_count": 79,
      "outputs": []
    },
    {
      "cell_type": "code",
      "source": [
        "df.head()"
      ],
      "metadata": {
        "colab": {
          "base_uri": "https://localhost:8080/",
          "height": 206
        },
        "id": "rkvOHmTyO-PX",
        "outputId": "26964078-034e-4d31-bb50-d63317978540"
      },
      "execution_count": 80,
      "outputs": [
        {
          "output_type": "execute_result",
          "data": {
            "text/plain": [
              "   gender       age  hypertension  heart_disease  ever_married  work_type  \\\n",
              "0       1  1.051242             0              1             1          2   \n",
              "1       0  0.785889             0              0             1          3   \n",
              "2       1  1.626174             0              1             1          2   \n",
              "3       0  0.255182             0              0             1          2   \n",
              "4       0  1.581949             1              0             1          3   \n",
              "\n",
              "   residence_type  avg_glucose_level       bmi  smoking_status  stroke  \n",
              "0               1           2.706450  1.001041               0       1  \n",
              "1               0           2.121652 -0.000165               1       1  \n",
              "2               0          -0.004867  0.468399               1       1  \n",
              "3               1           1.437473  0.715233               2       1  \n",
              "4               0           1.501297 -0.635858               1       1  "
            ],
            "text/html": [
              "\n",
              "  <div id=\"df-e5179f9c-2993-482f-b31e-4eeb4430475c\">\n",
              "    <div class=\"colab-df-container\">\n",
              "      <div>\n",
              "<style scoped>\n",
              "    .dataframe tbody tr th:only-of-type {\n",
              "        vertical-align: middle;\n",
              "    }\n",
              "\n",
              "    .dataframe tbody tr th {\n",
              "        vertical-align: top;\n",
              "    }\n",
              "\n",
              "    .dataframe thead th {\n",
              "        text-align: right;\n",
              "    }\n",
              "</style>\n",
              "<table border=\"1\" class=\"dataframe\">\n",
              "  <thead>\n",
              "    <tr style=\"text-align: right;\">\n",
              "      <th></th>\n",
              "      <th>gender</th>\n",
              "      <th>age</th>\n",
              "      <th>hypertension</th>\n",
              "      <th>heart_disease</th>\n",
              "      <th>ever_married</th>\n",
              "      <th>work_type</th>\n",
              "      <th>residence_type</th>\n",
              "      <th>avg_glucose_level</th>\n",
              "      <th>bmi</th>\n",
              "      <th>smoking_status</th>\n",
              "      <th>stroke</th>\n",
              "    </tr>\n",
              "  </thead>\n",
              "  <tbody>\n",
              "    <tr>\n",
              "      <th>0</th>\n",
              "      <td>1</td>\n",
              "      <td>1.051242</td>\n",
              "      <td>0</td>\n",
              "      <td>1</td>\n",
              "      <td>1</td>\n",
              "      <td>2</td>\n",
              "      <td>1</td>\n",
              "      <td>2.706450</td>\n",
              "      <td>1.001041</td>\n",
              "      <td>0</td>\n",
              "      <td>1</td>\n",
              "    </tr>\n",
              "    <tr>\n",
              "      <th>1</th>\n",
              "      <td>0</td>\n",
              "      <td>0.785889</td>\n",
              "      <td>0</td>\n",
              "      <td>0</td>\n",
              "      <td>1</td>\n",
              "      <td>3</td>\n",
              "      <td>0</td>\n",
              "      <td>2.121652</td>\n",
              "      <td>-0.000165</td>\n",
              "      <td>1</td>\n",
              "      <td>1</td>\n",
              "    </tr>\n",
              "    <tr>\n",
              "      <th>2</th>\n",
              "      <td>1</td>\n",
              "      <td>1.626174</td>\n",
              "      <td>0</td>\n",
              "      <td>1</td>\n",
              "      <td>1</td>\n",
              "      <td>2</td>\n",
              "      <td>0</td>\n",
              "      <td>-0.004867</td>\n",
              "      <td>0.468399</td>\n",
              "      <td>1</td>\n",
              "      <td>1</td>\n",
              "    </tr>\n",
              "    <tr>\n",
              "      <th>3</th>\n",
              "      <td>0</td>\n",
              "      <td>0.255182</td>\n",
              "      <td>0</td>\n",
              "      <td>0</td>\n",
              "      <td>1</td>\n",
              "      <td>2</td>\n",
              "      <td>1</td>\n",
              "      <td>1.437473</td>\n",
              "      <td>0.715233</td>\n",
              "      <td>2</td>\n",
              "      <td>1</td>\n",
              "    </tr>\n",
              "    <tr>\n",
              "      <th>4</th>\n",
              "      <td>0</td>\n",
              "      <td>1.581949</td>\n",
              "      <td>1</td>\n",
              "      <td>0</td>\n",
              "      <td>1</td>\n",
              "      <td>3</td>\n",
              "      <td>0</td>\n",
              "      <td>1.501297</td>\n",
              "      <td>-0.635858</td>\n",
              "      <td>1</td>\n",
              "      <td>1</td>\n",
              "    </tr>\n",
              "  </tbody>\n",
              "</table>\n",
              "</div>\n",
              "      <button class=\"colab-df-convert\" onclick=\"convertToInteractive('df-e5179f9c-2993-482f-b31e-4eeb4430475c')\"\n",
              "              title=\"Convert this dataframe to an interactive table.\"\n",
              "              style=\"display:none;\">\n",
              "        \n",
              "  <svg xmlns=\"http://www.w3.org/2000/svg\" height=\"24px\"viewBox=\"0 0 24 24\"\n",
              "       width=\"24px\">\n",
              "    <path d=\"M0 0h24v24H0V0z\" fill=\"none\"/>\n",
              "    <path d=\"M18.56 5.44l.94 2.06.94-2.06 2.06-.94-2.06-.94-.94-2.06-.94 2.06-2.06.94zm-11 1L8.5 8.5l.94-2.06 2.06-.94-2.06-.94L8.5 2.5l-.94 2.06-2.06.94zm10 10l.94 2.06.94-2.06 2.06-.94-2.06-.94-.94-2.06-.94 2.06-2.06.94z\"/><path d=\"M17.41 7.96l-1.37-1.37c-.4-.4-.92-.59-1.43-.59-.52 0-1.04.2-1.43.59L10.3 9.45l-7.72 7.72c-.78.78-.78 2.05 0 2.83L4 21.41c.39.39.9.59 1.41.59.51 0 1.02-.2 1.41-.59l7.78-7.78 2.81-2.81c.8-.78.8-2.07 0-2.86zM5.41 20L4 18.59l7.72-7.72 1.47 1.35L5.41 20z\"/>\n",
              "  </svg>\n",
              "      </button>\n",
              "      \n",
              "  <style>\n",
              "    .colab-df-container {\n",
              "      display:flex;\n",
              "      flex-wrap:wrap;\n",
              "      gap: 12px;\n",
              "    }\n",
              "\n",
              "    .colab-df-convert {\n",
              "      background-color: #E8F0FE;\n",
              "      border: none;\n",
              "      border-radius: 50%;\n",
              "      cursor: pointer;\n",
              "      display: none;\n",
              "      fill: #1967D2;\n",
              "      height: 32px;\n",
              "      padding: 0 0 0 0;\n",
              "      width: 32px;\n",
              "    }\n",
              "\n",
              "    .colab-df-convert:hover {\n",
              "      background-color: #E2EBFA;\n",
              "      box-shadow: 0px 1px 2px rgba(60, 64, 67, 0.3), 0px 1px 3px 1px rgba(60, 64, 67, 0.15);\n",
              "      fill: #174EA6;\n",
              "    }\n",
              "\n",
              "    [theme=dark] .colab-df-convert {\n",
              "      background-color: #3B4455;\n",
              "      fill: #D2E3FC;\n",
              "    }\n",
              "\n",
              "    [theme=dark] .colab-df-convert:hover {\n",
              "      background-color: #434B5C;\n",
              "      box-shadow: 0px 1px 3px 1px rgba(0, 0, 0, 0.15);\n",
              "      filter: drop-shadow(0px 1px 2px rgba(0, 0, 0, 0.3));\n",
              "      fill: #FFFFFF;\n",
              "    }\n",
              "  </style>\n",
              "\n",
              "      <script>\n",
              "        const buttonEl =\n",
              "          document.querySelector('#df-e5179f9c-2993-482f-b31e-4eeb4430475c button.colab-df-convert');\n",
              "        buttonEl.style.display =\n",
              "          google.colab.kernel.accessAllowed ? 'block' : 'none';\n",
              "\n",
              "        async function convertToInteractive(key) {\n",
              "          const element = document.querySelector('#df-e5179f9c-2993-482f-b31e-4eeb4430475c');\n",
              "          const dataTable =\n",
              "            await google.colab.kernel.invokeFunction('convertToInteractive',\n",
              "                                                     [key], {});\n",
              "          if (!dataTable) return;\n",
              "\n",
              "          const docLinkHtml = 'Like what you see? Visit the ' +\n",
              "            '<a target=\"_blank\" href=https://colab.research.google.com/notebooks/data_table.ipynb>data table notebook</a>'\n",
              "            + ' to learn more about interactive tables.';\n",
              "          element.innerHTML = '';\n",
              "          dataTable['output_type'] = 'display_data';\n",
              "          await google.colab.output.renderOutput(dataTable, element);\n",
              "          const docLink = document.createElement('div');\n",
              "          docLink.innerHTML = docLinkHtml;\n",
              "          element.appendChild(docLink);\n",
              "        }\n",
              "      </script>\n",
              "    </div>\n",
              "  </div>\n",
              "  "
            ]
          },
          "metadata": {},
          "execution_count": 80
        }
      ]
    },
    {
      "cell_type": "markdown",
      "source": [
        "**SMOTE - Synthetic Minority Oversampling Technique**"
      ],
      "metadata": {
        "id": "s3WtVz0RO_7j"
      }
    },
    {
      "cell_type": "code",
      "source": [
        "training_data=df.copy()\n",
        "x= training_data.drop(['stroke'],axis=1)\n",
        "y= df['stroke']\n",
        "x_train,x_test,y_train,y_test = train_test_split(x,y,test_size=0.2,random_state=42)"
      ],
      "metadata": {
        "id": "zquX9H1OPGEe"
      },
      "execution_count": 81,
      "outputs": []
    },
    {
      "cell_type": "code",
      "source": [
        "sm = SMOTE()\n",
        "x_train, y_train = sm.fit_resample(x_train,y_train)"
      ],
      "metadata": {
        "id": "VGmdps6gPMk8"
      },
      "execution_count": 82,
      "outputs": []
    },
    {
      "cell_type": "markdown",
      "source": [
        "**MODELOS**\n",
        "\n",
        "---\n",
        "\n"
      ],
      "metadata": {
        "id": "twYnS20UPOGs"
      }
    },
    {
      "cell_type": "markdown",
      "source": [
        "*KNN*"
      ],
      "metadata": {
        "id": "P9C9SQCvPeAp"
      }
    },
    {
      "cell_type": "code",
      "source": [
        "knn = KNeighborsClassifier()\n",
        "knn.fit(x_train, y_train)\n",
        "knn_pred = knn.predict(x_test)\n",
        "knn_acc = accuracy_score(knn_pred, y_test)\n",
        "knn_acc"
      ],
      "metadata": {
        "colab": {
          "base_uri": "https://localhost:8080/"
        },
        "id": "F4n1XDUEPSkr",
        "outputId": "f32d2436-1bf4-4cea-f137-4ec4bd7d852e"
      },
      "execution_count": 83,
      "outputs": [
        {
          "output_type": "execute_result",
          "data": {
            "text/plain": [
              "0.7788649706457925"
            ]
          },
          "metadata": {},
          "execution_count": 83
        }
      ]
    },
    {
      "cell_type": "markdown",
      "source": [
        "*Arbol de decision*"
      ],
      "metadata": {
        "id": "p4PlmooaPkLp"
      }
    },
    {
      "cell_type": "code",
      "source": [
        "decision_tree = DecisionTreeClassifier()   \n",
        "decision_tree.fit(x_train,y_train)\n",
        "dt_pred = decision_tree.predict(x_test)\n",
        "dt_acc = accuracy_score(dt_pred, y_test)\n",
        "dt_acc"
      ],
      "metadata": {
        "colab": {
          "base_uri": "https://localhost:8080/"
        },
        "id": "v5_zqX6EPsX9",
        "outputId": "291f9877-ca60-4b1b-ae8d-eed11e6c87b9"
      },
      "execution_count": 84,
      "outputs": [
        {
          "output_type": "execute_result",
          "data": {
            "text/plain": [
              "0.8424657534246576"
            ]
          },
          "metadata": {},
          "execution_count": 84
        }
      ]
    },
    {
      "cell_type": "markdown",
      "source": [
        "**5. En PYTHON grafique el arbol de decision del dataset seleccionado.**"
      ],
      "metadata": {
        "id": "D3TMo-Y0Q8pA"
      }
    },
    {
      "cell_type": "code",
      "source": [
        "from sklearn import tree"
      ],
      "metadata": {
        "id": "wZquNHAYScB0"
      },
      "execution_count": 86,
      "outputs": []
    },
    {
      "cell_type": "code",
      "source": [
        "tree.plot_tree(decision_tree);"
      ],
      "metadata": {
        "colab": {
          "base_uri": "https://localhost:8080/",
          "height": 248
        },
        "id": "dIrYpZjSVTaq",
        "outputId": "7423dd3d-340e-4f26-a613-3f7610bfa3ce"
      },
      "execution_count": 91,
      "outputs": [
        {
          "output_type": "display_data",
          "data": {
            "text/plain": [
              "<Figure size 432x288 with 1 Axes>"
            ],
            "image/png": "[encoded data removed]"
          },
          "metadata": {}
        }
      ]
    },
    {
      "cell_type": "markdown",
      "source": [
        "# 4. Con el uso de librerías en PYTHON, construya la dependencia de Abuelos, tios, padres, primos e hijos de su familia."
      ],
      "metadata": {
        "id": "-cXzoqBS164k"
      }
    },
    {
      "cell_type": "code",
      "source": [
        "from IPython.display import SVG\n",
        "import os"
      ],
      "metadata": {
        "id": "Pip0eU3mw44y"
      },
      "execution_count": 112,
      "outputs": []
    },
    {
      "cell_type": "code",
      "source": [
        "ancestry = pd.read_excel('/content/Parientes.xlsx')\n",
        "ancestry.to_csv('/content/genealogia.csv', index = None, header=True)\n",
        "ancestry = pd.read_csv('/content/genealogia.csv')"
      ],
      "metadata": {
        "id": "pQDYwPkmvy4W"
      },
      "execution_count": 108,
      "outputs": []
    },
    {
      "cell_type": "code",
      "source": [
        "ancestry.columns"
      ],
      "metadata": {
        "colab": {
          "base_uri": "https://localhost:8080/"
        },
        "id": "pFI7E40yv3Uf",
        "outputId": "1fba6895-8e0e-4a22-8092-bc03743f3738"
      },
      "execution_count": 109,
      "outputs": [
        {
          "output_type": "execute_result",
          "data": {
            "text/plain": [
              "Index(['Person 1', 'Relation', 'Person 2', 'Gender', 'Details'], dtype='object')"
            ]
          },
          "metadata": {},
          "execution_count": 109
        }
      ]
    },
    {
      "cell_type": "code",
      "source": [
        "ancestry.head()"
      ],
      "metadata": {
        "colab": {
          "base_uri": "https://localhost:8080/",
          "height": 206
        },
        "id": "1w_0KZS0yT-l",
        "outputId": "986492c8-fe66-4c15-c1b6-098b1ff29c28"
      },
      "execution_count": 121,
      "outputs": [
        {
          "output_type": "execute_result",
          "data": {
            "text/plain": [
              "     Person 1           Relation Person 2 Gender Details  recorded_ind\n",
              "0     Richard  Earliest Ancestor      NaN      M  Abuelo           NaN\n",
              "1        Ines            Spouse   Richard      F  Abuela           NaN\n",
              "2  Richard J.              Child  Richard      M     Tio           NaN\n",
              "3   Elizabeth              Child  Richard      F     Tia           NaN\n",
              "4     Liliana              Child  Richard      F     Tia           NaN"
            ],
            "text/html": [
              "\n",
              "  <div id=\"df-24aac8ec-3651-4b25-8b67-db37b4fa959c\">\n",
              "    <div class=\"colab-df-container\">\n",
              "      <div>\n",
              "<style scoped>\n",
              "    .dataframe tbody tr th:only-of-type {\n",
              "        vertical-align: middle;\n",
              "    }\n",
              "\n",
              "    .dataframe tbody tr th {\n",
              "        vertical-align: top;\n",
              "    }\n",
              "\n",
              "    .dataframe thead th {\n",
              "        text-align: right;\n",
              "    }\n",
              "</style>\n",
              "<table border=\"1\" class=\"dataframe\">\n",
              "  <thead>\n",
              "    <tr style=\"text-align: right;\">\n",
              "      <th></th>\n",
              "      <th>Person 1</th>\n",
              "      <th>Relation</th>\n",
              "      <th>Person 2</th>\n",
              "      <th>Gender</th>\n",
              "      <th>Details</th>\n",
              "      <th>recorded_ind</th>\n",
              "    </tr>\n",
              "  </thead>\n",
              "  <tbody>\n",
              "    <tr>\n",
              "      <th>0</th>\n",
              "      <td>Richard</td>\n",
              "      <td>Earliest Ancestor</td>\n",
              "      <td>NaN</td>\n",
              "      <td>M</td>\n",
              "      <td>Abuelo</td>\n",
              "      <td>NaN</td>\n",
              "    </tr>\n",
              "    <tr>\n",
              "      <th>1</th>\n",
              "      <td>Ines</td>\n",
              "      <td>Spouse</td>\n",
              "      <td>Richard</td>\n",
              "      <td>F</td>\n",
              "      <td>Abuela</td>\n",
              "      <td>NaN</td>\n",
              "    </tr>\n",
              "    <tr>\n",
              "      <th>2</th>\n",
              "      <td>Richard J.</td>\n",
              "      <td>Child</td>\n",
              "      <td>Richard</td>\n",
              "      <td>M</td>\n",
              "      <td>Tio</td>\n",
              "      <td>NaN</td>\n",
              "    </tr>\n",
              "    <tr>\n",
              "      <th>3</th>\n",
              "      <td>Elizabeth</td>\n",
              "      <td>Child</td>\n",
              "      <td>Richard</td>\n",
              "      <td>F</td>\n",
              "      <td>Tia</td>\n",
              "      <td>NaN</td>\n",
              "    </tr>\n",
              "    <tr>\n",
              "      <th>4</th>\n",
              "      <td>Liliana</td>\n",
              "      <td>Child</td>\n",
              "      <td>Richard</td>\n",
              "      <td>F</td>\n",
              "      <td>Tia</td>\n",
              "      <td>NaN</td>\n",
              "    </tr>\n",
              "  </tbody>\n",
              "</table>\n",
              "</div>\n",
              "      <button class=\"colab-df-convert\" onclick=\"convertToInteractive('df-24aac8ec-3651-4b25-8b67-db37b4fa959c')\"\n",
              "              title=\"Convert this dataframe to an interactive table.\"\n",
              "              style=\"display:none;\">\n",
              "        \n",
              "  <svg xmlns=\"http://www.w3.org/2000/svg\" height=\"24px\"viewBox=\"0 0 24 24\"\n",
              "       width=\"24px\">\n",
              "    <path d=\"M0 0h24v24H0V0z\" fill=\"none\"/>\n",
              "    <path d=\"M18.56 5.44l.94 2.06.94-2.06 2.06-.94-2.06-.94-.94-2.06-.94 2.06-2.06.94zm-11 1L8.5 8.5l.94-2.06 2.06-.94-2.06-.94L8.5 2.5l-.94 2.06-2.06.94zm10 10l.94 2.06.94-2.06 2.06-.94-2.06-.94-.94-2.06-.94 2.06-2.06.94z\"/><path d=\"M17.41 7.96l-1.37-1.37c-.4-.4-.92-.59-1.43-.59-.52 0-1.04.2-1.43.59L10.3 9.45l-7.72 7.72c-.78.78-.78 2.05 0 2.83L4 21.41c.39.39.9.59 1.41.59.51 0 1.02-.2 1.41-.59l7.78-7.78 2.81-2.81c.8-.78.8-2.07 0-2.86zM5.41 20L4 18.59l7.72-7.72 1.47 1.35L5.41 20z\"/>\n",
              "  </svg>\n",
              "      </button>\n",
              "      \n",
              "  <style>\n",
              "    .colab-df-container {\n",
              "      display:flex;\n",
              "      flex-wrap:wrap;\n",
              "      gap: 12px;\n",
              "    }\n",
              "\n",
              "    .colab-df-convert {\n",
              "      background-color: #E8F0FE;\n",
              "      border: none;\n",
              "      border-radius: 50%;\n",
              "      cursor: pointer;\n",
              "      display: none;\n",
              "      fill: #1967D2;\n",
              "      height: 32px;\n",
              "      padding: 0 0 0 0;\n",
              "      width: 32px;\n",
              "    }\n",
              "\n",
              "    .colab-df-convert:hover {\n",
              "      background-color: #E2EBFA;\n",
              "      box-shadow: 0px 1px 2px rgba(60, 64, 67, 0.3), 0px 1px 3px 1px rgba(60, 64, 67, 0.15);\n",
              "      fill: #174EA6;\n",
              "    }\n",
              "\n",
              "    [theme=dark] .colab-df-convert {\n",
              "      background-color: #3B4455;\n",
              "      fill: #D2E3FC;\n",
              "    }\n",
              "\n",
              "    [theme=dark] .colab-df-convert:hover {\n",
              "      background-color: #434B5C;\n",
              "      box-shadow: 0px 1px 3px 1px rgba(0, 0, 0, 0.15);\n",
              "      filter: drop-shadow(0px 1px 2px rgba(0, 0, 0, 0.3));\n",
              "      fill: #FFFFFF;\n",
              "    }\n",
              "  </style>\n",
              "\n",
              "      <script>\n",
              "        const buttonEl =\n",
              "          document.querySelector('#df-24aac8ec-3651-4b25-8b67-db37b4fa959c button.colab-df-convert');\n",
              "        buttonEl.style.display =\n",
              "          google.colab.kernel.accessAllowed ? 'block' : 'none';\n",
              "\n",
              "        async function convertToInteractive(key) {\n",
              "          const element = document.querySelector('#df-24aac8ec-3651-4b25-8b67-db37b4fa959c');\n",
              "          const dataTable =\n",
              "            await google.colab.kernel.invokeFunction('convertToInteractive',\n",
              "                                                     [key], {});\n",
              "          if (!dataTable) return;\n",
              "\n",
              "          const docLinkHtml = 'Like what you see? Visit the ' +\n",
              "            '<a target=\"_blank\" href=https://colab.research.google.com/notebooks/data_table.ipynb>data table notebook</a>'\n",
              "            + ' to learn more about interactive tables.';\n",
              "          element.innerHTML = '';\n",
              "          dataTable['output_type'] = 'display_data';\n",
              "          await google.colab.output.renderOutput(dataTable, element);\n",
              "          const docLink = document.createElement('div');\n",
              "          docLink.innerHTML = docLinkHtml;\n",
              "          element.appendChild(docLink);\n",
              "        }\n",
              "      </script>\n",
              "    </div>\n",
              "  </div>\n",
              "  "
            ]
          },
          "metadata": {},
          "execution_count": 121
        }
      ]
    },
    {
      "cell_type": "code",
      "source": [
        "from graphviz import Digraph\n",
        "import pandas as pd\n",
        "\n",
        "ancestry = pd.read_csv('genealogia.csv')\n",
        "earl_ans = ancestry.loc[ancestry['Relation'] == 'Earliest Ancestor', 'Person 1'].iloc[0]\n",
        "ancestry['recorded_ind'] = 0   \n",
        "\n",
        "incomp = [earl_ans]\n",
        "comp = []\n",
        "\n",
        "dot = Digraph(comment = 'Ancestry', graph_attr = {'splines':'ortho'})\n",
        "node_nm = []\n",
        "\n",
        "# 1er Nodo\n",
        "det = str(ancestry.loc[ancestry['Person 1'] == earl_ans, 'Details'][0])\n",
        "g = ancestry.loc[ancestry['Person 1'] == earl_ans, 'Gender'][0]\n",
        "sh = 'rect' if g == 'M' else 'ellipse'\n",
        "dot.node(earl_ans, earl_ans, tooltip = det, shape = sh)\n",
        "node_nm.append(earl_ans)\n",
        "\n",
        "ancestry.loc[ancestry['Person 1'] == earl_ans, 'recorded_ind'] = 1\n",
        "\n",
        "#Numero maximo de iteraciones\n",
        "max_iter = 15\n",
        "\n",
        "for i in range(0, max_iter):\n",
        "    print(i)\n",
        "    temp = ancestry[ancestry['recorded_ind'] == 0]\n",
        "\n",
        "    if len(temp) == 0:      # Romper el for\n",
        "        break\n",
        "    else:\n",
        "        temp['this_gen_ind'] = temp.apply(lambda x: 1 if x['Person 2'] in incomp else 0, axis = 1)\n",
        "\n",
        "        # Relaciones Esposa\n",
        "        this_gen = temp[(temp['this_gen_ind'] == 1) & (ancestry.Relation == 'Spouse')]\n",
        "        if len(this_gen) > 0:\n",
        "            for j in range(0, len(this_gen)):\n",
        "                per1 = this_gen['Person 1'].iloc[j]\n",
        "                per2 = this_gen['Person 2'].iloc[j]\n",
        "                det = str(this_gen['Details'].iloc[j])\n",
        "                g = this_gen['Gender'].iloc[j]\n",
        "                sh = 'rect' if g == 'M' else 'ellipse'\n",
        "                with dot.subgraph() as subs:\n",
        "                    subs.attr(rank = 'same')\n",
        "                    subs.node(per1, per1, tooltip = det, shape = sh, fillcolor = \"red\")\n",
        "                    node_nm.append(per1)\n",
        "                    subs.edge(per2, per1, arrowhead = 'none', color = \"black:invis:black\")\n",
        "\n",
        "        # Relaciones Hijo\n",
        "        this_gen = temp[(temp['this_gen_ind'] == 1) & (temp['Relation'] == 'Child')]\n",
        "        if len(this_gen) > 0:\n",
        "            for j in range(0, len(this_gen)):\n",
        "                per1 = this_gen['Person 1'].iloc[j]\n",
        "                per2 = this_gen['Person 2'].iloc[j]\n",
        "                det = str(this_gen['Details'].iloc[j])\n",
        "                g = this_gen['Gender'].iloc[j]\n",
        "                sh = 'rect' if g == 'M' else 'ellipse'\n",
        "                dot.node(per1, per1, tooltip = det, shape = sh)\n",
        "                node_nm.append(per1)\n",
        "                dot.edge(per2, per1)\n",
        "\n",
        "        comp.extend(incomp)\n",
        "        incomp = list(temp.loc[temp['this_gen_ind'] == 1, 'Person 1'])\n",
        "        ancestry['recorded_ind'] = temp.apply(lambda x: 1 if (x['Person 1'] in incomp) | (x['Person 1'] in comp) else 0, axis = 1)\n",
        "\n",
        "\n",
        "dot.format = 'png'\n",
        "dot.render('sample_ancestry', view = True)\n"
      ],
      "metadata": {
        "colab": {
          "base_uri": "https://localhost:8080/",
          "height": 400
        },
        "outputId": "81f0c869-19c7-46aa-bf4f-3ea8f3171f5d",
        "id": "7EqfF--ovzQo"
      },
      "execution_count": 134,
      "outputs": [
        {
          "output_type": "stream",
          "name": "stdout",
          "text": [
            "0\n",
            "1\n",
            "2\n",
            "3\n",
            "4\n",
            "5\n",
            "6\n",
            "7\n",
            "8\n",
            "9\n",
            "10\n",
            "11\n",
            "12\n",
            "13\n",
            "14\n"
          ]
        },
        {
          "output_type": "stream",
          "name": "stderr",
          "text": [
            "/usr/local/lib/python3.7/dist-packages/ipykernel_launcher.py:33: SettingWithCopyWarning: \n",
            "A value is trying to be set on a copy of a slice from a DataFrame.\n",
            "Try using .loc[row_indexer,col_indexer] = value instead\n",
            "\n",
            "See the caveats in the documentation: https://pandas.pydata.org/pandas-docs/stable/user_guide/indexing.html#returning-a-view-versus-a-copy\n",
            "/usr/local/lib/python3.7/dist-packages/ipykernel_launcher.py:36: UserWarning: Boolean Series key will be reindexed to match DataFrame index.\n"
          ]
        },
        {
          "output_type": "execute_result",
          "data": {
            "text/plain": [
              "'sample_ancestry.png'"
            ],
            "application/vnd.google.colaboratory.intrinsic+json": {
              "type": "string"
            }
          },
          "metadata": {},
          "execution_count": 134
        }
      ]
    },
    {
      "cell_type": "code",
      "source": [
        "import matplotlib.pyplot as plt\n",
        "import matplotlib.image as mpimg\n",
        "\n",
        "img = mpimg.imread('sample_ancestry.png')\n",
        "plt.imshow(img)\n",
        "plt.show()"
      ],
      "metadata": {
        "colab": {
          "base_uri": "https://localhost:8080/",
          "height": 160
        },
        "id": "uEZgMybXx5J-",
        "outputId": "29c50633-06d1-4827-92dc-9be2222b4b06"
      },
      "execution_count": 135,
      "outputs": [
        {
          "output_type": "display_data",
          "data": {
            "text/plain": [
              "<Figure size 432x288 with 1 Axes>"
            ],
            "image/png": "[encoded data removed]"
          },
          "metadata": {}
        }
      ]
    }
  ]
}